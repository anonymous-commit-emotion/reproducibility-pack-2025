{
 "cells": [
  {
   "cell_type": "code",
   "execution_count": 2,
   "metadata": {},
   "outputs": [],
   "source": [
    "import pandas as pd\n",
    "import numpy as np\n",
    "from sklearn.metrics import cohen_kappa_score\n",
    "import krippendorff\n",
    "from scipy.stats import bootstrap\n",
    "import pandas as pd\n",
    "import matplotlib.pyplot as plt\n",
    "import seaborn as sns"
   ]
  },
  {
   "cell_type": "code",
   "execution_count": 13,
   "metadata": {},
   "outputs": [
    {
     "data": {
      "text/plain": [
       "(2000, 2000)"
      ]
     },
     "execution_count": 13,
     "metadata": {},
     "output_type": "execute_result"
    }
   ],
   "source": [
    "len(annotator_1), len(annotator_2)"
   ]
  },
  {
   "cell_type": "code",
   "execution_count": 14,
   "metadata": {},
   "outputs": [],
   "source": [
    "# Define emotion categories\n",
    "positive_emotions = ['excitement', 'joy', 'satisfaction']\n",
    "negative_emotions = ['sadness', 'frustration', 'anger']\n",
    "caution_keywords = [\n",
    "        'caution', 'warning', 'risk', 'careful', 'beware', 'cautious',\n",
    "        'heed', 'watch out', 'danger', 'prudent', 'advisory', 'alert',\n",
    "        'avoid', 'prevent', 'ensure', 'disable', 'check for', 'recoverable',\n",
    "        'safe path', 'fallback', 'gracefully handle', 'validate', 'sanitize'\n",
    "    ]\n",
    "def emotion_corrections(df):\n",
    "    # Map emotions in emotion_1 and emotion_2\n",
    "    df['emotion'] = df['emotion'].apply(\n",
    "        lambda x: 'satisfaction' if x in positive_emotions else \n",
    "                ('frustration' if x in negative_emotions else x)\n",
    "    )\n",
    "\n",
    "    # Define caution keywords and create mask\n",
    "    \n",
    "    pattern = '|'.join(caution_keywords)\n",
    "    caution_mask = df['message'].str.contains(pattern, case=False, na=False)\n",
    "\n",
    "    # Apply caution override where keywords are found\n",
    "    df.loc[caution_mask, ['emotion']] = 'caution'"
   ]
  },
  {
   "cell_type": "code",
   "execution_count": 15,
   "metadata": {},
   "outputs": [],
   "source": [
    "emotion_corrections(annotator_1)\n",
    "emotion_corrections(annotator_2)"
   ]
  },
  {
   "cell_type": "code",
   "execution_count": 16,
   "metadata": {},
   "outputs": [
    {
     "data": {
      "text/plain": [
       "(array(['caution', 'satisfaction', 'neutral', 'frustration'], dtype=object),\n",
       " array(['caution', 'satisfaction', 'frustration', 'neutral'], dtype=object))"
      ]
     },
     "execution_count": 16,
     "metadata": {},
     "output_type": "execute_result"
    }
   ],
   "source": [
    "annotator_1['emotion'].unique(), annotator_2['emotion'].unique()"
   ]
  },
  {
   "cell_type": "code",
   "execution_count": null,
   "metadata": {},
   "outputs": [],
   "source": [
    "annotator_1.to_csv('annotator_1_og.csv')\n",
    "annotator_2.to_csv('annotator_2_og.csv')"
   ]
  },
  {
   "cell_type": "code",
   "execution_count": 19,
   "metadata": {},
   "outputs": [
    {
     "data": {
      "text/plain": [
       "Index(['Unnamed: 0', 'commit', 'author', 'date', 'repo', 'project_size',\n",
       "       'time_period', 'strat_label', 'message', 'emotion', 'intensity'],\n",
       "      dtype='object')"
      ]
     },
     "execution_count": 19,
     "metadata": {},
     "output_type": "execute_result"
    }
   ],
   "source": [
    "annotator_2.columns"
   ]
  },
  {
   "cell_type": "code",
   "execution_count": 20,
   "metadata": {},
   "outputs": [
    {
     "data": {
      "text/plain": [
       "emotion\n",
       "neutral         845\n",
       "satisfaction    447\n",
       "frustration     445\n",
       "caution         263\n",
       "Name: count, dtype: int64"
      ]
     },
     "execution_count": 20,
     "metadata": {},
     "output_type": "execute_result"
    }
   ],
   "source": [
    "annotator_1['emotion'].value_counts()"
   ]
  },
  {
   "cell_type": "code",
   "execution_count": 21,
   "metadata": {},
   "outputs": [
    {
     "name": "stdout",
     "output_type": "stream",
     "text": [
      "Number of NaN values in 'col_name': 0\n"
     ]
    }
   ],
   "source": [
    "nan_count = annotator_1['emotion'].isna().sum()\n",
    "print(f\"Number of NaN values in 'col_name': {nan_count}\")\n"
   ]
  },
  {
   "cell_type": "code",
   "execution_count": 22,
   "metadata": {},
   "outputs": [
    {
     "data": {
      "text/plain": [
       "emotion\n",
       "neutral         816\n",
       "satisfaction    490\n",
       "frustration     431\n",
       "caution         263\n",
       "Name: count, dtype: int64"
      ]
     },
     "execution_count": 22,
     "metadata": {},
     "output_type": "execute_result"
    }
   ],
   "source": [
    "annotator_2['emotion'].value_counts()"
   ]
  },
  {
   "cell_type": "code",
   "execution_count": 23,
   "metadata": {},
   "outputs": [
    {
     "name": "stdout",
     "output_type": "stream",
     "text": [
      "Number of NaN values in 'col_name': 0\n"
     ]
    }
   ],
   "source": [
    "nan_count = annotator_2['emotion'].isna().sum()\n",
    "print(f\"Number of NaN values in 'col_name': {nan_count}\")\n"
   ]
  },
  {
   "cell_type": "code",
   "execution_count": null,
   "metadata": {},
   "outputs": [],
   "source": [
    "# Assuming your DataFrame is named 'df' and the column is named 'col'\n",
    "def get_classes(column):\n",
    "    # Count the occurrences of each category\n",
    "    category_counts = column.value_counts()\n",
    "\n",
    "    # Create a bar plot using seaborn\n",
    "    sns.barplot(x=category_counts.index, y=category_counts)\n",
    "\n",
    "    # Customize the plot (optional)\n",
    "    plt.xlabel('Categories')\n",
    "    plt.ylabel('Count')\n",
    "    plt.title('Distribution of Categories')\n",
    "    plt.xticks(rotation=45, ha='right')  # Rotate x-axis labels for better readability\n",
    "\n",
    "    # Show the plot\n",
    "    plt.show()"
   ]
  },
  {
   "cell_type": "code",
   "execution_count": 26,
   "metadata": {},
   "outputs": [],
   "source": [
    "def get_metrics(df):\n",
    "    # Step 3: Cohen's Kappa for emotions\n",
    "    kappa_emotions = cohen_kappa_score(df['emotion_1'], df['emotion_2'])\n",
    "    print(f\"Cohen's Kappa for emotions: {kappa_emotions:.3f}\")\n",
    "\n",
    "    if kappa_emotions<=0.68:\n",
    "        print(\"Cohen's Kappa too low! Threshold: 0.68\")\n",
    "    else:\n",
    "        print(\"Cohen's Kappa looks good. Threshold: 0.68\")\n"
   ]
  },
  {
   "cell_type": "code",
   "execution_count": 27,
   "metadata": {},
   "outputs": [],
   "source": [
    "\n",
    "# Ensure necessary columns exist\n",
    "required_columns = ['author', 'date', 'repo', 'message', 'emotion', 'intensity']\n",
    "assert all(col in annotator_1.columns for col in required_columns), \"Annotator 1 missing required columns\"\n",
    "assert all(col in annotator_2.columns for col in required_columns), \"Annotator 2 missing required columns\"\n"
   ]
  },
  {
   "cell_type": "code",
   "execution_count": null,
   "metadata": {},
   "outputs": [
    {
     "name": "stdout",
     "output_type": "stream",
     "text": [
      "Keys have been normalized. Attempting final merge...\n",
      "--- Merge Complete ---\n",
      "Shape of the final combined_df: (1994, 14)\n",
      "<class 'pandas.core.frame.DataFrame'>\n",
      "RangeIndex: 1994 entries, 0 to 1993\n",
      "Data columns (total 14 columns):\n",
      " #   Column        Non-Null Count  Dtype  \n",
      "---  ------        --------------  -----  \n",
      " 0   Unnamed: 0_1  1994 non-null   int64  \n",
      " 1   commit        1994 non-null   object \n",
      " 2   author        1994 non-null   object \n",
      " 3   date          1994 non-null   object \n",
      " 4   repo          1994 non-null   object \n",
      " 5   project_size  1994 non-null   Int64  \n",
      " 6   time_period   1994 non-null   object \n",
      " 7   strat_label   1994 non-null   object \n",
      " 8   message       1994 non-null   object \n",
      " 9   emotion_1     1994 non-null   object \n",
      " 10  intensity_1   1991 non-null   float64\n",
      " 11  Unnamed: 0_2  1994 non-null   int64  \n",
      " 12  emotion_2     1994 non-null   object \n",
      " 13  intensity_2   1994 non-null   float64\n",
      "dtypes: Int64(1), float64(2), int64(2), object(9)\n",
      "memory usage: 220.2+ KB\n",
      "None\n"
     ]
    }
   ],
   "source": [
    "# Define your key columns\n",
    "key_cols = ['commit', 'author', 'date', 'repo', 'project_size', \n",
    "            'time_period', 'strat_label', 'message']\n",
    "\n",
    "# STEP 1: Fix the data type for 'project_size' before any merging.\n",
    "# This converts the column to a proper, nullable integer in both DataFrames.\n",
    "annotator_1['project_size'] = pd.to_numeric(annotator_1['project_size'], errors='coerce').astype('Int64')\n",
    "annotator_2['project_size'] = pd.to_numeric(annotator_2['project_size'], errors='coerce').astype('Int64')\n",
    "\n",
    "# STEP 2: Normalize all string-based keys to remove hidden whitespace.\n",
    "for col in key_cols:\n",
    "    # Check if the column still exists and is of object type\n",
    "    if col in annotator_1.columns and annotator_1[col].dtype == 'object':\n",
    "        annotator_1[col] = annotator_1[col].str.strip()\n",
    "    if col in annotator_2.columns and annotator_2[col].dtype == 'object':\n",
    "        annotator_2[col] = annotator_2[col].str.strip()\n",
    "\n",
    "# STEP 3: Perform the merge. It will now work.\n",
    "print(\"Keys have been normalized. Attempting final merge...\")\n",
    "combined_df = pd.merge(\n",
    "    annotator_1, annotator_2,\n",
    "    on=key_cols,\n",
    "    suffixes=('_1', '_2')\n",
    ")\n",
    "\n",
    "# STEP 4: Verify the result. The row count should now be correct.\n",
    "print(\"--- Merge Complete ---\")\n",
    "print(f\"Shape of the final combined_df: {combined_df.shape}\")\n",
    "print(combined_df.info())"
   ]
  },
  {
   "cell_type": "code",
   "execution_count": 29,
   "metadata": {},
   "outputs": [
    {
     "data": {
      "text/plain": [
       "1994"
      ]
     },
     "execution_count": 29,
     "metadata": {},
     "output_type": "execute_result"
    }
   ],
   "source": [
    "len(combined_df)"
   ]
  },
  {
   "cell_type": "code",
   "execution_count": 30,
   "metadata": {},
   "outputs": [
    {
     "data": {
      "text/plain": [
       "emotion_1\n",
       "neutral         843\n",
       "satisfaction    445\n",
       "frustration     444\n",
       "caution         262\n",
       "Name: count, dtype: int64"
      ]
     },
     "execution_count": 30,
     "metadata": {},
     "output_type": "execute_result"
    }
   ],
   "source": [
    "combined_df['emotion_1'].value_counts()"
   ]
  },
  {
   "cell_type": "code",
   "execution_count": 31,
   "metadata": {},
   "outputs": [
    {
     "data": {
      "text/plain": [
       "emotion_2\n",
       "neutral         814\n",
       "satisfaction    488\n",
       "frustration     430\n",
       "caution         262\n",
       "Name: count, dtype: int64"
      ]
     },
     "execution_count": 31,
     "metadata": {},
     "output_type": "execute_result"
    }
   ],
   "source": [
    "combined_df['emotion_2'].value_counts()"
   ]
  },
  {
   "cell_type": "code",
   "execution_count": 32,
   "metadata": {},
   "outputs": [
    {
     "data": {
      "text/plain": [
       "intensity_1\n",
       "3.0    454\n",
       "2.0    340\n",
       "4.0    335\n",
       "1.0    310\n",
       "5.0    231\n",
       "7.0    203\n",
       "6.0    118\n",
       "Name: count, dtype: int64"
      ]
     },
     "execution_count": 32,
     "metadata": {},
     "output_type": "execute_result"
    }
   ],
   "source": [
    "combined_df['intensity_1'].value_counts()"
   ]
  },
  {
   "cell_type": "code",
   "execution_count": 33,
   "metadata": {},
   "outputs": [
    {
     "data": {
      "text/plain": [
       "intensity_2\n",
       "3.0    519\n",
       "4.0    474\n",
       "5.0    400\n",
       "2.0    306\n",
       "6.0    150\n",
       "1.0     77\n",
       "7.0     68\n",
       "Name: count, dtype: int64"
      ]
     },
     "execution_count": 33,
     "metadata": {},
     "output_type": "execute_result"
    }
   ],
   "source": [
    "\n",
    "combined_df['intensity_2'].value_counts()"
   ]
  },
  {
   "cell_type": "code",
   "execution_count": 34,
   "metadata": {},
   "outputs": [
    {
     "data": {
      "image/png": "[encoded data removed]",
      "text/plain": [
       "<Figure size 640x480 with 1 Axes>"
      ]
     },
     "metadata": {},
     "output_type": "display_data"
    }
   ],
   "source": [
    "get_classes(combined_df['emotion_1'])"
   ]
  },
  {
   "cell_type": "code",
   "execution_count": 35,
   "metadata": {},
   "outputs": [
    {
     "name": "stdout",
     "output_type": "stream",
     "text": [
      "Cohen's Kappa for emotions: 0.412\n",
      "Cohen's Kappa too low! Threshold: 0.68\n"
     ]
    }
   ],
   "source": [
    "get_metrics(combined_df)"
   ]
  },
  {
   "cell_type": "code",
   "execution_count": null,
   "metadata": {},
   "outputs": [],
   "source": [
    "final_df = combined_df.copy()"
   ]
  },
  {
   "cell_type": "code",
   "execution_count": 38,
   "metadata": {},
   "outputs": [],
   "source": [
    "def reconcile_emotions(row):\n",
    "    e1, e2 = row['emotion_1'], row['emotion_2']\n",
    "    i1, i2 = row['intensity_1'], row['intensity_2']\n",
    "    \n",
    "    # 1. Handle caution (highest priority)\n",
    "    if e1 == 'caution' or e2 == 'caution':\n",
    "        if e1 == 'caution' and e2 == 'caution':\n",
    "            return 'caution', np.mean([i1, i2])\n",
    "        return 'caution', i1 if e1 == 'caution' else i2\n",
    "    \n",
    "    # 2. Same emotion\n",
    "    if e1 == e2:\n",
    "        return e1, np.mean([i1, i2])\n",
    "    \n",
    "    # 3. One neutral, one non-neutral\n",
    "    if 'neutral' in (e1, e2):\n",
    "        non_neutral = e2 if e1 == 'neutral' else e1\n",
    "        non_neutral_intensity = i2 if e1 == 'neutral' else i1\n",
    "        return non_neutral, non_neutral_intensity\n",
    "    \n",
    "    # 4. Conflicting non-neutral emotions (satisfaction vs. frustration)\n",
    "    if i1 > i2:\n",
    "        return e1, i1\n",
    "    elif i2 > i1:\n",
    "        return e2, i2\n",
    "    else:  # Tiebreaker\n",
    "        return 'NEED REVIEW', i1\n",
    "\n",
    "# Apply reconciliation\n",
    "final_df[['reconciled_emotion', 'reconciled_intensity']] = final_df.apply(\n",
    "    reconcile_emotions, \n",
    "    axis=1, \n",
    "    result_type='expand'\n",
    ")"
   ]
  },
  {
   "cell_type": "code",
   "execution_count": 39,
   "metadata": {},
   "outputs": [
    {
     "data": {
      "text/plain": [
       "Index(['Unnamed: 0_1', 'commit', 'author', 'date', 'repo', 'project_size',\n",
       "       'time_period', 'strat_label', 'message', 'emotion_1', 'intensity_1',\n",
       "       'Unnamed: 0_2', 'emotion_2', 'intensity_2', 'reconciled_emotion',\n",
       "       'reconciled_intensity'],\n",
       "      dtype='object')"
      ]
     },
     "execution_count": 39,
     "metadata": {},
     "output_type": "execute_result"
    }
   ],
   "source": [
    "final_df.columns"
   ]
  },
  {
   "cell_type": "code",
   "execution_count": 40,
   "metadata": {},
   "outputs": [
    {
     "data": {
      "image/png": "[encoded data removed]",
      "text/plain": [
       "<Figure size 640x480 with 1 Axes>"
      ]
     },
     "metadata": {},
     "output_type": "display_data"
    }
   ],
   "source": [
    "get_classes(final_df['reconciled_emotion'])"
   ]
  },
  {
   "cell_type": "code",
   "execution_count": 41,
   "metadata": {},
   "outputs": [
    {
     "name": "stdout",
     "output_type": "stream",
     "text": [
      "Emotion disagreements:\n",
      "emotion_1\n",
      "neutral         174\n",
      "satisfaction    128\n",
      "frustration     117\n",
      "Name: count, dtype: int64\n"
     ]
    }
   ],
   "source": [
    "emotion_disagreements = final_df[final_df['emotion_1'] != final_df['emotion_2']]\n",
    "emotion_disagreement_counts = emotion_disagreements['emotion_1'].value_counts()\n",
    "\n",
    "print(\"Emotion disagreements:\")\n",
    "print(emotion_disagreement_counts)"
   ]
  },
  {
   "cell_type": "code",
   "execution_count": 42,
   "metadata": {},
   "outputs": [
    {
     "name": "stdout",
     "output_type": "stream",
     "text": [
      "Intensity level disagreements:\n",
      "0.0    942\n",
      "1.0    628\n",
      "2.0    275\n",
      "3.0     88\n",
      "4.0     40\n",
      "5.0     11\n",
      "6.0      7\n",
      "Name: count, dtype: int64\n"
     ]
    }
   ],
   "source": [
    "\n",
    "# Step 7: Intensity disagreement analysis\n",
    "# Analyze intensity level differences\n",
    "intensity_differences = np.abs(final_df['intensity_1'] - final_df['intensity_2'])\n",
    "intensity_disagreement_counts = intensity_differences.value_counts()\n",
    "\n",
    "print(\"Intensity level disagreements:\")\n",
    "print(intensity_disagreement_counts)\n"
   ]
  },
  {
   "cell_type": "code",
   "execution_count": 43,
   "metadata": {},
   "outputs": [],
   "source": [
    "df_reconciled = final_df[['commit', 'author', 'date', 'repo', 'project_size',\n",
    "       'time_period', 'strat_label', 'message', 'reconciled_emotion', 'reconciled_intensity']]"
   ]
  },
  {
   "cell_type": "code",
   "execution_count": 44,
   "metadata": {},
   "outputs": [
    {
     "data": {
      "text/html": [
       "<div>\n",
       "<style scoped>\n",
       "    .dataframe tbody tr th:only-of-type {\n",
       "        vertical-align: middle;\n",
       "    }\n",
       "\n",
       "    .dataframe tbody tr th {\n",
       "        vertical-align: top;\n",
       "    }\n",
       "\n",
       "    .dataframe thead th {\n",
       "        text-align: right;\n",
       "    }\n",
       "</style>\n",
       "<table border=\"1\" class=\"dataframe\">\n",
       "  <thead>\n",
       "    <tr style=\"text-align: right;\">\n",
       "      <th></th>\n",
       "      <th>commit</th>\n",
       "      <th>author</th>\n",
       "      <th>date</th>\n",
       "      <th>repo</th>\n",
       "      <th>project_size</th>\n",
       "      <th>time_period</th>\n",
       "      <th>strat_label</th>\n",
       "      <th>message</th>\n",
       "      <th>reconciled_emotion</th>\n",
       "      <th>reconciled_intensity</th>\n",
       "    </tr>\n",
       "  </thead>\n",
       "  <tbody>\n",
       "    <tr>\n",
       "      <th>0</th>\n",
       "      <td>b90f6afa8bf33f8fbc8bec143eb6c6bba55eede8</td>\n",
       "      <td>chromium-autoroll &lt;chromium-autoroll@skia-publ...</td>\n",
       "      <td>Thu May 7 13:15:17 2020 +0000</td>\n",
       "      <td>chromium/chromium</td>\n",
       "      <td>4568</td>\n",
       "      <td>2020Q2</td>\n",
       "      <td>4568 chromium/chromium 2020Q2</td>\n",
       "      <td>roll swiftshader afddeccdfeaa commits git log ...</td>\n",
       "      <td>caution</td>\n",
       "      <td>5.5</td>\n",
       "    </tr>\n",
       "    <tr>\n",
       "      <th>1</th>\n",
       "      <td>06f2fa0ec01cf00dbeace71fae41f61cafd0493f</td>\n",
       "      <td>Xing Liu &lt;xingliu@chromium.org&gt;</td>\n",
       "      <td>Thu Apr 30 02:45:19 2020 +0000</td>\n",
       "      <td>chromium/chromium</td>\n",
       "      <td>4568</td>\n",
       "      <td>2020Q2</td>\n",
       "      <td>4568 chromium/chromium 2020Q2</td>\n",
       "      <td>query tiles add a debug switch to immediately ...</td>\n",
       "      <td>satisfaction</td>\n",
       "      <td>3.5</td>\n",
       "    </tr>\n",
       "    <tr>\n",
       "      <th>2</th>\n",
       "      <td>232076f55e01fa311dea82cc802fd30e290a85ff</td>\n",
       "      <td>Yuzu Saijo &lt;yuzus@chromium.org&gt;</td>\n",
       "      <td>Fri May 29 07:14:02 2020 +0000</td>\n",
       "      <td>chromium/chromium</td>\n",
       "      <td>4568</td>\n",
       "      <td>2020Q2</td>\n",
       "      <td>4568 chromium/chromium 2020Q2</td>\n",
       "      <td>remove backforwardcache specific ipc and use m...</td>\n",
       "      <td>frustration</td>\n",
       "      <td>2.0</td>\n",
       "    </tr>\n",
       "    <tr>\n",
       "      <th>3</th>\n",
       "      <td>6a19a15fb7b5d7e92fd49b20b74f3f73ea7de6c9</td>\n",
       "      <td>Aaron Krajeski &lt;aaronhk@chromium.org&gt;</td>\n",
       "      <td>Tue Jun 16 21:17:35 2020 +0000</td>\n",
       "      <td>chromium/chromium</td>\n",
       "      <td>4568</td>\n",
       "      <td>2020Q2</td>\n",
       "      <td>4568 chromium/chromium 2020Q2</td>\n",
       "      <td>add ios to texturelayerskipwaitforactivation c...</td>\n",
       "      <td>neutral</td>\n",
       "      <td>6.0</td>\n",
       "    </tr>\n",
       "    <tr>\n",
       "      <th>4</th>\n",
       "      <td>ce6d2b585d2a62c0e36f4d49723b7aec838d9488</td>\n",
       "      <td>Minoru Chikamune &lt;chikamune@chromium.org&gt;</td>\n",
       "      <td>Fri Apr 24 00:14:49 2020 +0000</td>\n",
       "      <td>chromium/chromium</td>\n",
       "      <td>4568</td>\n",
       "      <td>2020Q2</td>\n",
       "      <td>4568 chromium/chromium 2020Q2</td>\n",
       "      <td>migrate beforeinstallpromptevent to use gc moj...</td>\n",
       "      <td>caution</td>\n",
       "      <td>5.0</td>\n",
       "    </tr>\n",
       "  </tbody>\n",
       "</table>\n",
       "</div>"
      ],
      "text/plain": [
       "                                     commit  \\\n",
       "0  b90f6afa8bf33f8fbc8bec143eb6c6bba55eede8   \n",
       "1  06f2fa0ec01cf00dbeace71fae41f61cafd0493f   \n",
       "2  232076f55e01fa311dea82cc802fd30e290a85ff   \n",
       "3  6a19a15fb7b5d7e92fd49b20b74f3f73ea7de6c9   \n",
       "4  ce6d2b585d2a62c0e36f4d49723b7aec838d9488   \n",
       "\n",
       "                                              author  \\\n",
       "0  chromium-autoroll <chromium-autoroll@skia-publ...   \n",
       "1                    Xing Liu <xingliu@chromium.org>   \n",
       "2                    Yuzu Saijo <yuzus@chromium.org>   \n",
       "3              Aaron Krajeski <aaronhk@chromium.org>   \n",
       "4          Minoru Chikamune <chikamune@chromium.org>   \n",
       "\n",
       "                             date               repo  project_size  \\\n",
       "0   Thu May 7 13:15:17 2020 +0000  chromium/chromium          4568   \n",
       "1  Thu Apr 30 02:45:19 2020 +0000  chromium/chromium          4568   \n",
       "2  Fri May 29 07:14:02 2020 +0000  chromium/chromium          4568   \n",
       "3  Tue Jun 16 21:17:35 2020 +0000  chromium/chromium          4568   \n",
       "4  Fri Apr 24 00:14:49 2020 +0000  chromium/chromium          4568   \n",
       "\n",
       "  time_period                    strat_label  \\\n",
       "0      2020Q2  4568 chromium/chromium 2020Q2   \n",
       "1      2020Q2  4568 chromium/chromium 2020Q2   \n",
       "2      2020Q2  4568 chromium/chromium 2020Q2   \n",
       "3      2020Q2  4568 chromium/chromium 2020Q2   \n",
       "4      2020Q2  4568 chromium/chromium 2020Q2   \n",
       "\n",
       "                                             message reconciled_emotion  \\\n",
       "0  roll swiftshader afddeccdfeaa commits git log ...            caution   \n",
       "1  query tiles add a debug switch to immediately ...       satisfaction   \n",
       "2  remove backforwardcache specific ipc and use m...        frustration   \n",
       "3  add ios to texturelayerskipwaitforactivation c...            neutral   \n",
       "4  migrate beforeinstallpromptevent to use gc moj...            caution   \n",
       "\n",
       "   reconciled_intensity  \n",
       "0                   5.5  \n",
       "1                   3.5  \n",
       "2                   2.0  \n",
       "3                   6.0  \n",
       "4                   5.0  "
      ]
     },
     "execution_count": 44,
     "metadata": {},
     "output_type": "execute_result"
    }
   ],
   "source": [
    "df_reconciled.head(5)"
   ]
  },
  {
   "cell_type": "code",
   "execution_count": 45,
   "metadata": {},
   "outputs": [
    {
     "data": {
      "text/plain": [
       "reconciled_intensity\n",
       "3.0    367\n",
       "4.0    300\n",
       "2.0    262\n",
       "5.0    213\n",
       "3.5    143\n",
       "2.5    134\n",
       "1.0    125\n",
       "6.0    108\n",
       "1.5     97\n",
       "4.5     93\n",
       "5.5     76\n",
       "7.0     49\n",
       "6.5     24\n",
       "Name: count, dtype: int64"
      ]
     },
     "execution_count": 45,
     "metadata": {},
     "output_type": "execute_result"
    }
   ],
   "source": [
    "df_reconciled['reconciled_intensity'].value_counts()"
   ]
  },
  {
   "cell_type": "code",
   "execution_count": 46,
   "metadata": {},
   "outputs": [
    {
     "data": {
      "text/plain": [
       "1994"
      ]
     },
     "execution_count": 46,
     "metadata": {},
     "output_type": "execute_result"
    }
   ],
   "source": [
    "len(df_reconciled)"
   ]
  },
  {
   "cell_type": "code",
   "execution_count": 47,
   "metadata": {},
   "outputs": [],
   "source": [
    "df_reconciled.to_csv('labeled_2k.csv')"
   ]
  },
  {
   "cell_type": "code",
   "execution_count": 48,
   "metadata": {},
   "outputs": [],
   "source": [
    "df_unlabeled=df_reconciled.drop(columns=['reconciled_emotion',\n",
    "       'reconciled_intensity'])"
   ]
  },
  {
   "cell_type": "code",
   "execution_count": 49,
   "metadata": {},
   "outputs": [],
   "source": [
    "df_unlabeled.to_csv('unlabeled_2k.csv', index=False)"
   ]
  },
  {
   "cell_type": "code",
   "execution_count": 50,
   "metadata": {},
   "outputs": [],
   "source": [
    "labeled_df = pd.read_csv('labeled_2k.csv')"
   ]
  }
 ],
 "metadata": {
  "kernelspec": {
   "display_name": "Python 3",
   "language": "python",
   "name": "python3"
  },
  "language_info": {
   "codemirror_mode": {
    "name": "ipython",
    "version": 3
   },
   "file_extension": ".py",
   "mimetype": "text/x-python",
   "name": "python",
   "nbconvert_exporter": "python",
   "pygments_lexer": "ipython3",
   "version": "3.12.10"
  }
 },
 "nbformat": 4,
 "nbformat_minor": 2
}
