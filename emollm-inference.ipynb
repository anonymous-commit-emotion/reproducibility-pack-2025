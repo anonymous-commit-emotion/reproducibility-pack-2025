{
 "cells": [
  {
   "cell_type": "code",
   "execution_count": 1,
   "id": "070c6cbe",
   "metadata": {
    "_cell_guid": "b1076dfc-b9ad-4769-8c92-a6c4dae69d19",
    "_uuid": "8f2839f25d086af736a60e9eeb907d3b93b6e0e5",
    "execution": {
     "iopub.execute_input": "2025-09-27T14:26:02.289272Z",
     "iopub.status.busy": "2025-09-27T14:26:02.289004Z",
     "iopub.status.idle": "2025-09-27T14:26:32.683155Z",
     "shell.execute_reply": "2025-09-27T14:26:32.682544Z"
    },
    "papermill": {
     "duration": 30.398629,
     "end_time": "2025-09-27T14:26:32.684635",
     "exception": false,
     "start_time": "2025-09-27T14:26:02.286006",
     "status": "completed"
    },
    "tags": []
   },
   "outputs": [
    {
     "name": "stderr",
     "output_type": "stream",
     "text": [
      "2025-09-27 14:26:20.207858: E external/local_xla/xla/stream_executor/cuda/cuda_fft.cc:477] Unable to register cuFFT factory: Attempting to register factory for plugin cuFFT when one has already been registered\n",
      "WARNING: All log messages before absl::InitializeLog() is called are written to STDERR\n",
      "E0000 00:00:1758983180.409993      19 cuda_dnn.cc:8310] Unable to register cuDNN factory: Attempting to register factory for plugin cuDNN when one has already been registered\n",
      "E0000 00:00:1758983180.470951      19 cuda_blas.cc:1418] Unable to register cuBLAS factory: Attempting to register factory for plugin cuBLAS when one has already been registered\n"
     ]
    }
   ],
   "source": [
    "import pandas as pd\n",
    "import numpy as np\n",
    "import torch\n",
    "import os\n",
    "from datasets import Dataset\n",
    "from transformers import AutoTokenizer, AutoModelForSequenceClassification, Trainer\n",
    "from tqdm import tqdm"
   ]
  },
  {
   "cell_type": "code",
   "execution_count": 2,
   "id": "59df3c78",
   "metadata": {
    "_cell_guid": "b1076dfc-b9ad-4769-8c92-a6c4dae69d19",
    "_uuid": "8f2839f25d086af736a60e9eeb907d3b93b6e0e5",
    "execution": {
     "iopub.execute_input": "2025-09-27T14:26:32.689893Z",
     "iopub.status.busy": "2025-09-27T14:26:32.689101Z",
     "iopub.status.idle": "2025-09-27T14:26:32.692948Z",
     "shell.execute_reply": "2025-09-27T14:26:32.692437Z"
    },
    "papermill": {
     "duration": 0.007107,
     "end_time": "2025-09-27T14:26:32.693911",
     "exception": false,
     "start_time": "2025-09-27T14:26:32.686804",
     "status": "completed"
    },
    "tags": []
   },
   "outputs": [],
   "source": [
    "# --- 1. SETUP & ENVIRONMENT HARDENING (LESSONS LEARNED) ---\n",
    "# This environment variable permanently disables wandb to prevent login errors.\n",
    "os.environ[\"WANDB_DISABLED\"] = \"true\"\n",
    "\n",
    "# --- 2. CONFIGURATION ---\n",
    "# THIS IS THE CRITICAL CORRECTION: Use the honest, original fine-tuned model.\n",
    "# DO NOT use the failed augmented model.\n",
    "MODEL_PATH = \"/kaggle/input/emollm/codebert_finetuned_aug1\" \n",
    "# Path to your full, unlabeled 20k commit dataset\n",
    "DATA_FILE = \"/kaggle/input/emollm/cleaned20k.csv\"\n",
    "# The final output file for your teammates\n",
    "OUTPUT_FILE = \"/kaggle/working/commits_with_emotions_final.csv\"\n",
    "\n",
    "TEXT_COLUMN = \"message\"\n",
    "BATCH_SIZE = 64 # Larger batch size for faster inference"
   ]
  },
  {
   "cell_type": "code",
   "execution_count": 3,
   "id": "1957c8a0",
   "metadata": {
    "_cell_guid": "b1076dfc-b9ad-4769-8c92-a6c4dae69d19",
    "_uuid": "8f2839f25d086af736a60e9eeb907d3b93b6e0e5",
    "execution": {
     "iopub.execute_input": "2025-09-27T14:26:32.697909Z",
     "iopub.status.busy": "2025-09-27T14:26:32.697701Z",
     "iopub.status.idle": "2025-09-27T14:26:34.078448Z",
     "shell.execute_reply": "2025-09-27T14:26:34.077575Z"
    },
    "papermill": {
     "duration": 1.384161,
     "end_time": "2025-09-27T14:26:34.079767",
     "exception": false,
     "start_time": "2025-09-27T14:26:32.695606",
     "status": "completed"
    },
    "tags": []
   },
   "outputs": [
    {
     "name": "stdout",
     "output_type": "stream",
     "text": [
      "--- Loading champion model from: /kaggle/input/emollm/codebert_finetuned_aug1 ---\n",
      "Model and tokenizer loaded successfully.\n"
     ]
    }
   ],
   "source": [
    "# --- 3. LOAD THE CHAMPION MODEL AND DATA ---\n",
    "print(f\"--- Loading champion model from: {MODEL_PATH} ---\")\n",
    "try:\n",
    "    tokenizer = AutoTokenizer.from_pretrained(MODEL_PATH)\n",
    "    model = AutoModelForSequenceClassification.from_pretrained(MODEL_PATH)\n",
    "    print(\"Model and tokenizer loaded successfully.\")\n",
    "except Exception as e:\n",
    "    print(f\"FATAL ERROR: Could not load model from path. Check your input files. Error: {e}\")\n",
    "    exit()"
   ]
  },
  {
   "cell_type": "code",
   "execution_count": 4,
   "id": "7675b81d",
   "metadata": {
    "_cell_guid": "b1076dfc-b9ad-4769-8c92-a6c4dae69d19",
    "_uuid": "8f2839f25d086af736a60e9eeb907d3b93b6e0e5",
    "execution": {
     "iopub.execute_input": "2025-09-27T14:26:34.084815Z",
     "iopub.status.busy": "2025-09-27T14:26:34.084560Z",
     "iopub.status.idle": "2025-09-27T14:26:34.307517Z",
     "shell.execute_reply": "2025-09-27T14:26:34.306786Z"
    },
    "papermill": {
     "duration": 0.226971,
     "end_time": "2025-09-27T14:26:34.308715",
     "exception": false,
     "start_time": "2025-09-27T14:26:34.081744",
     "status": "completed"
    },
    "tags": []
   },
   "outputs": [
    {
     "name": "stdout",
     "output_type": "stream",
     "text": [
      "--- Loading 20k commit dataset from: /kaggle/input/emollm/cleaned20k.csv ---\n",
      "Dataset loaded successfully. Shape: (19420, 5)\n"
     ]
    }
   ],
   "source": [
    "print(f\"--- Loading 20k commit dataset from: {DATA_FILE} ---\")\n",
    "try:\n",
    "    df = pd.read_csv(DATA_FILE)\n",
    "    print(f\"Dataset loaded successfully. Shape: {df.shape}\")\n",
    "except FileNotFoundError:\n",
    "    print(f\"FATAL ERROR: Data file not found at '{DATA_FILE}'. Exiting.\")\n",
    "    exit()"
   ]
  },
  {
   "cell_type": "code",
   "execution_count": 5,
   "id": "7f5307d6",
   "metadata": {
    "_cell_guid": "b1076dfc-b9ad-4769-8c92-a6c4dae69d19",
    "_uuid": "8f2839f25d086af736a60e9eeb907d3b93b6e0e5",
    "execution": {
     "iopub.execute_input": "2025-09-27T14:26:34.313653Z",
     "iopub.status.busy": "2025-09-27T14:26:34.313411Z",
     "iopub.status.idle": "2025-09-27T14:26:34.412212Z",
     "shell.execute_reply": "2025-09-27T14:26:34.411298Z"
    },
    "papermill": {
     "duration": 0.10266,
     "end_time": "2025-09-27T14:26:34.413453",
     "exception": false,
     "start_time": "2025-09-27T14:26:34.310793",
     "status": "completed"
    },
    "tags": []
   },
   "outputs": [
    {
     "name": "stdout",
     "output_type": "stream",
     "text": [
      "--- Enforcing data hygiene on input data ---\n"
     ]
    }
   ],
   "source": [
    "# --- 4. DATA HYGIENE (LESSON LEARNED) ---\n",
    "# This prevents the TypeError during tokenization.\n",
    "print(\"--- Enforcing data hygiene on input data ---\")\n",
    "initial_rows = len(df)\n",
    "df[TEXT_COLUMN] = df[TEXT_COLUMN].astype(str) # Force column to string\n",
    "df = df[df[TEXT_COLUMN].str.strip().astype(bool)] # Drop rows with empty/whitespace messages\n",
    "final_rows = len(df)\n",
    "if initial_rows != final_rows:\n",
    "    print(f\"Warning: Dropped {initial_rows - final_rows} rows with empty messages.\")\n",
    "\n",
    "# Convert to Hugging Face Dataset for the Trainer\n",
    "predict_dataset = Dataset.from_pandas(df)"
   ]
  },
  {
   "cell_type": "code",
   "execution_count": 6,
   "id": "35d6c9d7",
   "metadata": {
    "_cell_guid": "b1076dfc-b9ad-4769-8c92-a6c4dae69d19",
    "_uuid": "8f2839f25d086af736a60e9eeb907d3b93b6e0e5",
    "execution": {
     "iopub.execute_input": "2025-09-27T14:26:34.418866Z",
     "iopub.status.busy": "2025-09-27T14:26:34.418192Z",
     "iopub.status.idle": "2025-09-27T14:28:14.950864Z",
     "shell.execute_reply": "2025-09-27T14:28:14.950293Z"
    },
    "papermill": {
     "duration": 100.536285,
     "end_time": "2025-09-27T14:28:14.951999",
     "exception": false,
     "start_time": "2025-09-27T14:26:34.415714",
     "status": "completed"
    },
    "tags": []
   },
   "outputs": [
    {
     "name": "stdout",
     "output_type": "stream",
     "text": [
      "--- Generating predictions for 19420 messages... ---\n"
     ]
    },
    {
     "name": "stderr",
     "output_type": "stream",
     "text": [
      "/tmp/ipykernel_19/703699442.py:8: FutureWarning: `tokenizer` is deprecated and will be removed in version 5.0.0 for `Trainer.__init__`. Use `processing_class` instead.\n",
      "  trainer = Trainer(\n"
     ]
    },
    {
     "data": {
      "application/vnd.jupyter.widget-view+json": {
       "model_id": "e9d958ee64e548f1b275b88cb58b10c2",
       "version_major": 2,
       "version_minor": 0
      },
      "text/plain": [
       "Map:   0%|          | 0/19420 [00:00<?, ? examples/s]"
      ]
     },
     "metadata": {},
     "output_type": "display_data"
    },
    {
     "data": {
      "text/html": [],
      "text/plain": [
       "<IPython.core.display.HTML object>"
      ]
     },
     "metadata": {},
     "output_type": "display_data"
    }
   ],
   "source": [
    "# --- 5. EXECUTE BATCHED INFERENCE ---\n",
    "print(f\"--- Generating predictions for {len(predict_dataset)} messages... ---\")\n",
    "# The Trainer requires TrainingArguments, even for prediction.\n",
    "# We set report_to=\"none\" as a final safeguard.\n",
    "from transformers import TrainingArguments\n",
    "training_args = TrainingArguments(output_dir=\"./temp_results\", report_to=\"none\")\n",
    "\n",
    "trainer = Trainer(\n",
    "    model=model,\n",
    "    args=training_args,\n",
    "    tokenizer=tokenizer,\n",
    ")\n",
    "\n",
    "# Tokenize the dataset\n",
    "def tokenize_function(examples):\n",
    "    return tokenizer(examples[TEXT_COLUMN], truncation=True, max_length=512)\n",
    "predict_dataset_tokenized = predict_dataset.map(tokenize_function, batched=True)\n",
    "\n",
    "# Run prediction\n",
    "predictions = trainer.predict(predict_dataset_tokenized)"
   ]
  },
  {
   "cell_type": "code",
   "execution_count": 7,
   "id": "54ede67d",
   "metadata": {
    "_cell_guid": "b1076dfc-b9ad-4769-8c92-a6c4dae69d19",
    "_uuid": "8f2839f25d086af736a60e9eeb907d3b93b6e0e5",
    "execution": {
     "iopub.execute_input": "2025-09-27T14:28:14.958584Z",
     "iopub.status.busy": "2025-09-27T14:28:14.957742Z",
     "iopub.status.idle": "2025-09-27T14:28:15.236174Z",
     "shell.execute_reply": "2025-09-27T14:28:15.235596Z"
    },
    "papermill": {
     "duration": 0.282859,
     "end_time": "2025-09-27T14:28:15.237563",
     "exception": false,
     "start_time": "2025-09-27T14:28:14.954704",
     "status": "completed"
    },
    "tags": []
   },
   "outputs": [
    {
     "name": "stdout",
     "output_type": "stream",
     "text": [
      "--- Inference complete. Processing and saving final results. ---\n"
     ]
    }
   ],
   "source": [
    "# --- 6. PROCESS AND SAVE RESULTS ---\n",
    "print(\"--- Inference complete. Processing and saving final results. ---\")\n",
    "# Get the predicted class IDs and probabilities\n",
    "predicted_class_ids = np.argmax(predictions.predictions, axis=1)\n",
    "probabilities = torch.nn.functional.softmax(torch.from_numpy(predictions.predictions), dim=-1).numpy()\n",
    "max_probabilities = np.max(probabilities, axis=1)\n",
    "\n",
    "# Map IDs back to string labels\n",
    "id2label = model.config.id2label\n",
    "predicted_labels = [id2label[i] for i in predicted_class_ids]\n",
    "\n",
    "# Add new columns to the original dataframe\n",
    "df['emotion_predicted'] = predicted_labels\n",
    "df['emotion_score'] = max_probabilities\n",
    "\n",
    "# Save the final, enriched dataset\n",
    "df.to_csv(OUTPUT_FILE, index=False)"
   ]
  },
  {
   "cell_type": "code",
   "execution_count": 8,
   "id": "1519b0ec",
   "metadata": {
    "_cell_guid": "b1076dfc-b9ad-4769-8c92-a6c4dae69d19",
    "_uuid": "8f2839f25d086af736a60e9eeb907d3b93b6e0e5",
    "execution": {
     "iopub.execute_input": "2025-09-27T14:28:15.243756Z",
     "iopub.status.busy": "2025-09-27T14:28:15.243158Z",
     "iopub.status.idle": "2025-09-27T14:28:15.259112Z",
     "shell.execute_reply": "2025-09-27T14:28:15.258299Z"
    },
    "papermill": {
     "duration": 0.020604,
     "end_time": "2025-09-27T14:28:15.260771",
     "exception": false,
     "start_time": "2025-09-27T14:28:15.240167",
     "status": "completed"
    },
    "tags": []
   },
   "outputs": [
    {
     "name": "stdout",
     "output_type": "stream",
     "text": [
      "\n",
      "--- MISSION COMPLETE ---\n",
      "Successfully generated predictions and saved the final dataset to '/kaggle/working/commits_with_emotions_final.csv'\n",
      "\n",
      "Sample of the final output:\n",
      "                                     commit  \\\n",
      "0  c8a5a98a200c982e586419f484df3cd7c6c41c0a   \n",
      "1  e234c80cc636723fa6c4e832b34ae3f88d235323   \n",
      "2  18759308740a0bfc18d754d16dfe1b49b0773aa1   \n",
      "3  c94c4807e5a561dbb5fe39fe62b5e53dca7b2c15   \n",
      "4  c6a68d91631d51ab973380855de8c5cdcced14f3   \n",
      "\n",
      "                                             message emotion_predicted  \\\n",
      "0  roll fuchsia sdk from to if this roll has caus...           caution   \n",
      "1  mark instantstarttesttestfeedplaceholdervisibi...           neutral   \n",
      "2  android rename android_webview glue_java allow...           neutral   \n",
      "3  browseraccessibilityinstance_active is not nee...      satisfaction   \n",
      "4  roll srcinternal from to deceec revision if th...           caution   \n",
      "\n",
      "   emotion_score  \n",
      "0       0.999386  \n",
      "1       0.998442  \n",
      "2       0.593868  \n",
      "3       0.941682  \n",
      "4       0.999525  \n"
     ]
    }
   ],
   "source": [
    "print(f\"\\n--- MISSION COMPLETE ---\")\n",
    "print(f\"Successfully generated predictions and saved the final dataset to '{OUTPUT_FILE}'\")\n",
    "print(\"\\nSample of the final output:\")\n",
    "print(df[['commit', 'message', 'emotion_predicted', 'emotion_score']].head())"
   ]
  }
 ],
 "metadata": {
  "kaggle": {
   "accelerator": "none",
   "dataSources": [
    {
     "datasetId": 6813259,
     "sourceId": 13189039,
     "sourceType": "datasetVersion"
    }
   ],
   "dockerImageVersionId": 31089,
   "isGpuEnabled": false,
   "isInternetEnabled": true,
   "language": "python",
   "sourceType": "notebook"
  },
  "kernelspec": {
   "display_name": "Python 3",
   "language": "python",
   "name": "python3"
  },
  "language_info": {
   "codemirror_mode": {
    "name": "ipython",
    "version": 3
   },
   "file_extension": ".py",
   "mimetype": "text/x-python",
   "name": "python",
   "nbconvert_exporter": "python",
   "pygments_lexer": "ipython3",
   "version": "3.11.13"
  },
  "papermill": {
   "default_parameters": {},
   "duration": 140.205115,
   "end_time": "2025-09-27T14:28:18.448591",
   "environment_variables": {},
   "exception": null,
   "input_path": "__notebook__.ipynb",
   "output_path": "__notebook__.ipynb",
   "parameters": {},
   "start_time": "2025-09-27T14:25:58.243476",
   "version": "2.6.0"
  },
  "widgets": {
   "application/vnd.jupyter.widget-state+json": {
    "state": {
     "031bc86bf32c4f1ab87c75866db763e2": {
      "model_module": "@jupyter-widgets/base",
      "model_module_version": "2.0.0",
      "model_name": "LayoutModel",
      "state": {
       "_model_module": "@jupyter-widgets/base",
       "_model_module_version": "2.0.0",
       "_model_name": "LayoutModel",
       "_view_count": null,
       "_view_module": "@jupyter-widgets/base",
       "_view_module_version": "2.0.0",
       "_view_name": "LayoutView",
       "align_content": null,
       "align_items": null,
       "align_self": null,
       "border_bottom": null,
       "border_left": null,
       "border_right": null,
       "border_top": null,
       "bottom": null,
       "display": null,
       "flex": null,
       "flex_flow": null,
       "grid_area": null,
       "grid_auto_columns": null,
       "grid_auto_flow": null,
       "grid_auto_rows": null,
       "grid_column": null,
       "grid_gap": null,
       "grid_row": null,
       "grid_template_areas": null,
       "grid_template_columns": null,
       "grid_template_rows": null,
       "height": null,
       "justify_content": null,
       "justify_items": null,
       "left": null,
       "margin": null,
       "max_height": null,
       "max_width": null,
       "min_height": null,
       "min_width": null,
       "object_fit": null,
       "object_position": null,
       "order": null,
       "overflow": null,
       "padding": null,
       "right": null,
       "top": null,
       "visibility": null,
       "width": null
      }
     },
     "37739fdfda494b23af11d4eca8219c55": {
      "model_module": "@jupyter-widgets/controls",
      "model_module_version": "2.0.0",
      "model_name": "ProgressStyleModel",
      "state": {
       "_model_module": "@jupyter-widgets/controls",
       "_model_module_version": "2.0.0",
       "_model_name": "ProgressStyleModel",
       "_view_count": null,
       "_view_module": "@jupyter-widgets/base",
       "_view_module_version": "2.0.0",
       "_view_name": "StyleView",
       "bar_color": null,
       "description_width": ""
      }
     },
     "4315607ebf8a41a1a9ff4167a31c394e": {
      "model_module": "@jupyter-widgets/controls",
      "model_module_version": "2.0.0",
      "model_name": "FloatProgressModel",
      "state": {
       "_dom_classes": [],
       "_model_module": "@jupyter-widgets/controls",
       "_model_module_version": "2.0.0",
       "_model_name": "FloatProgressModel",
       "_view_count": null,
       "_view_module": "@jupyter-widgets/controls",
       "_view_module_version": "2.0.0",
       "_view_name": "ProgressView",
       "bar_style": "success",
       "description": "",
       "description_allow_html": false,
       "layout": "IPY_MODEL_031bc86bf32c4f1ab87c75866db763e2",
       "max": 19420.0,
       "min": 0.0,
       "orientation": "horizontal",
       "style": "IPY_MODEL_37739fdfda494b23af11d4eca8219c55",
       "tabbable": null,
       "tooltip": null,
       "value": 19420.0
      }
     },
     "4ddb6c33800544c7821ec28fc9b141bc": {
      "model_module": "@jupyter-widgets/base",
      "model_module_version": "2.0.0",
      "model_name": "LayoutModel",
      "state": {
       "_model_module": "@jupyter-widgets/base",
       "_model_module_version": "2.0.0",
       "_model_name": "LayoutModel",
       "_view_count": null,
       "_view_module": "@jupyter-widgets/base",
       "_view_module_version": "2.0.0",
       "_view_name": "LayoutView",
       "align_content": null,
       "align_items": null,
       "align_self": null,
       "border_bottom": null,
       "border_left": null,
       "border_right": null,
       "border_top": null,
       "bottom": null,
       "display": null,
       "flex": null,
       "flex_flow": null,
       "grid_area": null,
       "grid_auto_columns": null,
       "grid_auto_flow": null,
       "grid_auto_rows": null,
       "grid_column": null,
       "grid_gap": null,
       "grid_row": null,
       "grid_template_areas": null,
       "grid_template_columns": null,
       "grid_template_rows": null,
       "height": null,
       "justify_content": null,
       "justify_items": null,
       "left": null,
       "margin": null,
       "max_height": null,
       "max_width": null,
       "min_height": null,
       "min_width": null,
       "object_fit": null,
       "object_position": null,
       "order": null,
       "overflow": null,
       "padding": null,
       "right": null,
       "top": null,
       "visibility": null,
       "width": null
      }
     },
     "742415c1de164c449146a2e61791173c": {
      "model_module": "@jupyter-widgets/controls",
      "model_module_version": "2.0.0",
      "model_name": "HTMLStyleModel",
      "state": {
       "_model_module": "@jupyter-widgets/controls",
       "_model_module_version": "2.0.0",
       "_model_name": "HTMLStyleModel",
       "_view_count": null,
       "_view_module": "@jupyter-widgets/base",
       "_view_module_version": "2.0.0",
       "_view_name": "StyleView",
       "background": null,
       "description_width": "",
       "font_size": null,
       "text_color": null
      }
     },
     "7c199fcb9a744b738672c61ec63b00f4": {
      "model_module": "@jupyter-widgets/controls",
      "model_module_version": "2.0.0",
      "model_name": "HTMLModel",
      "state": {
       "_dom_classes": [],
       "_model_module": "@jupyter-widgets/controls",
       "_model_module_version": "2.0.0",
       "_model_name": "HTMLModel",
       "_view_count": null,
       "_view_module": "@jupyter-widgets/controls",
       "_view_module_version": "2.0.0",
       "_view_name": "HTMLView",
       "description": "",
       "description_allow_html": false,
       "layout": "IPY_MODEL_c22ad972c06e484f96e8067c2dc7f4ab",
       "placeholder": "​",
       "style": "IPY_MODEL_742415c1de164c449146a2e61791173c",
       "tabbable": null,
       "tooltip": null,
       "value": " 19420/19420 [00:02&lt;00:00, 13409.49 examples/s]"
      }
     },
     "c22ad972c06e484f96e8067c2dc7f4ab": {
      "model_module": "@jupyter-widgets/base",
      "model_module_version": "2.0.0",
      "model_name": "LayoutModel",
      "state": {
       "_model_module": "@jupyter-widgets/base",
       "_model_module_version": "2.0.0",
       "_model_name": "LayoutModel",
       "_view_count": null,
       "_view_module": "@jupyter-widgets/base",
       "_view_module_version": "2.0.0",
       "_view_name": "LayoutView",
       "align_content": null,
       "align_items": null,
       "align_self": null,
       "border_bottom": null,
       "border_left": null,
       "border_right": null,
       "border_top": null,
       "bottom": null,
       "display": null,
       "flex": null,
       "flex_flow": null,
       "grid_area": null,
       "grid_auto_columns": null,
       "grid_auto_flow": null,
       "grid_auto_rows": null,
       "grid_column": null,
       "grid_gap": null,
       "grid_row": null,
       "grid_template_areas": null,
       "grid_template_columns": null,
       "grid_template_rows": null,
       "height": null,
       "justify_content": null,
       "justify_items": null,
       "left": null,
       "margin": null,
       "max_height": null,
       "max_width": null,
       "min_height": null,
       "min_width": null,
       "object_fit": null,
       "object_position": null,
       "order": null,
       "overflow": null,
       "padding": null,
       "right": null,
       "top": null,
       "visibility": null,
       "width": null
      }
     },
     "d0a885fe9c54471389c74cbbd38eebba": {
      "model_module": "@jupyter-widgets/controls",
      "model_module_version": "2.0.0",
      "model_name": "HTMLStyleModel",
      "state": {
       "_model_module": "@jupyter-widgets/controls",
       "_model_module_version": "2.0.0",
       "_model_name": "HTMLStyleModel",
       "_view_count": null,
       "_view_module": "@jupyter-widgets/base",
       "_view_module_version": "2.0.0",
       "_view_name": "StyleView",
       "background": null,
       "description_width": "",
       "font_size": null,
       "text_color": null
      }
     },
     "d43374aa050a402cb34799c635d2c36d": {
      "model_module": "@jupyter-widgets/controls",
      "model_module_version": "2.0.0",
      "model_name": "HTMLModel",
      "state": {
       "_dom_classes": [],
       "_model_module": "@jupyter-widgets/controls",
       "_model_module_version": "2.0.0",
       "_model_name": "HTMLModel",
       "_view_count": null,
       "_view_module": "@jupyter-widgets/controls",
       "_view_module_version": "2.0.0",
       "_view_name": "HTMLView",
       "description": "",
       "description_allow_html": false,
       "layout": "IPY_MODEL_4ddb6c33800544c7821ec28fc9b141bc",
       "placeholder": "​",
       "style": "IPY_MODEL_d0a885fe9c54471389c74cbbd38eebba",
       "tabbable": null,
       "tooltip": null,
       "value": "Map: 100%"
      }
     },
     "e9d958ee64e548f1b275b88cb58b10c2": {
      "model_module": "@jupyter-widgets/controls",
      "model_module_version": "2.0.0",
      "model_name": "HBoxModel",
      "state": {
       "_dom_classes": [],
       "_model_module": "@jupyter-widgets/controls",
       "_model_module_version": "2.0.0",
       "_model_name": "HBoxModel",
       "_view_count": null,
       "_view_module": "@jupyter-widgets/controls",
       "_view_module_version": "2.0.0",
       "_view_name": "HBoxView",
       "box_style": "",
       "children": [
        "IPY_MODEL_d43374aa050a402cb34799c635d2c36d",
        "IPY_MODEL_4315607ebf8a41a1a9ff4167a31c394e",
        "IPY_MODEL_7c199fcb9a744b738672c61ec63b00f4"
       ],
       "layout": "IPY_MODEL_eea76347d1344ffb823c740bf2c9ce32",
       "tabbable": null,
       "tooltip": null
      }
     },
     "eea76347d1344ffb823c740bf2c9ce32": {
      "model_module": "@jupyter-widgets/base",
      "model_module_version": "2.0.0",
      "model_name": "LayoutModel",
      "state": {
       "_model_module": "@jupyter-widgets/base",
       "_model_module_version": "2.0.0",
       "_model_name": "LayoutModel",
       "_view_count": null,
       "_view_module": "@jupyter-widgets/base",
       "_view_module_version": "2.0.0",
       "_view_name": "LayoutView",
       "align_content": null,
       "align_items": null,
       "align_self": null,
       "border_bottom": null,
       "border_left": null,
       "border_right": null,
       "border_top": null,
       "bottom": null,
       "display": null,
       "flex": null,
       "flex_flow": null,
       "grid_area": null,
       "grid_auto_columns": null,
       "grid_auto_flow": null,
       "grid_auto_rows": null,
       "grid_column": null,
       "grid_gap": null,
       "grid_row": null,
       "grid_template_areas": null,
       "grid_template_columns": null,
       "grid_template_rows": null,
       "height": null,
       "justify_content": null,
       "justify_items": null,
       "left": null,
       "margin": null,
       "max_height": null,
       "max_width": null,
       "min_height": null,
       "min_width": null,
       "object_fit": null,
       "object_position": null,
       "order": null,
       "overflow": null,
       "padding": null,
       "right": null,
       "top": null,
       "visibility": null,
       "width": null
      }
     }
    },
    "version_major": 2,
    "version_minor": 0
   }
  }
 },
 "nbformat": 4,
 "nbformat_minor": 5
}
